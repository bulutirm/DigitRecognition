{
  "nbformat": 4,
  "nbformat_minor": 0,
  "metadata": {
    "colab": {
      "provenance": [],
      "authorship_tag": "ABX9TyNmyFUh+rGEdeUeTSCIgBwb",
      "include_colab_link": true
    },
    "kernelspec": {
      "name": "python3",
      "display_name": "Python 3"
    },
    "language_info": {
      "name": "python"
    }
  },
  "cells": [
    {
      "cell_type": "markdown",
      "metadata": {
        "id": "view-in-github",
        "colab_type": "text"
      },
      "source": [
        "<a href=\"https://colab.research.google.com/github/bulutirm/DigitRecognition/blob/main/DigitRecognition.ipynb\" target=\"_parent\"><img src=\"https://colab.research.google.com/assets/colab-badge.svg\" alt=\"Open In Colab\"/></a>"
      ]
    },
    {
      "cell_type": "markdown",
      "source": [
        "# Digit Recognition wit ANN"
      ],
      "metadata": {
        "id": "Mytq1H6SkJhA"
      }
    },
    {
      "cell_type": "markdown",
      "source": [
        "# 1. Business Problem\n",
        "\n",
        "   Problem: Can we use the manpower resource more efficiently?\n",
        "   \n",
        "   MNIST (\"Modified National Institue of Standards and Technology\")\n",
        "\n",
        "   http://yann.lecun.com/exdb/mnist/index.html\n",
        "\n"
      ],
      "metadata": {
        "id": "G2miXL0qnB5b"
      }
    },
    {
      "cell_type": "markdown",
      "source": [
        "\n",
        "\n",
        "# 2. Data Understanding\n",
        "\n"
      ],
      "metadata": {
        "id": "4XOZa-Hmmgja"
      }
    },
    {
      "cell_type": "code",
      "execution_count": null,
      "metadata": {
        "id": "ChEdml_njvdF"
      },
      "outputs": [],
      "source": [
        "pip install tensorflow"
      ]
    },
    {
      "cell_type": "code",
      "source": [
        "import tensorflow as tf\n",
        "from tensorflow.keras.datasets import mnist\n",
        "from tensorflow.keras.models import load_model, Sequential\n",
        "from tensorflow.keras.layers import Dense, Flatten\n",
        "from tensorflow.keras.utils import to_categorical, plot_model\n",
        "\n",
        "import matplotlib.pyplot as plt\n",
        "import numpy as np\n",
        "\n",
        "import warnings\n",
        "from warnings import filterwarnings\n",
        "warnings.filterwarnings(\"ignore\", category = DeprecationWarning)\n",
        "warnings.filterwarnings(\"ignore\", category = FutureWarning)\n",
        "warnings.filterwarnings(\"ignore\", category = UserWarning)\n",
        "filterwarnings(\"ignore\")"
      ],
      "metadata": {
        "id": "KNLEu1kInGDq"
      },
      "execution_count": 4,
      "outputs": []
    },
    {
      "cell_type": "code",
      "source": [
        "(x_train, y_train), (x_test, y_test) = mnist.load_data()"
      ],
      "metadata": {
        "id": "hIZJA0U3n2pa"
      },
      "execution_count": null,
      "outputs": []
    },
    {
      "cell_type": "code",
      "source": [
        "print(\"Train set size:\", x_train.shape, y_train.shape)"
      ],
      "metadata": {
        "colab": {
          "base_uri": "https://localhost:8080/"
        },
        "id": "zKEm1ZsGoFTV",
        "outputId": "6edbf996-95d3-4338-ddaa-f0bcc2609633"
      },
      "execution_count": 6,
      "outputs": [
        {
          "output_type": "stream",
          "name": "stdout",
          "text": [
            "Train set size: (60000, 28, 28) (60000,)\n"
          ]
        }
      ]
    },
    {
      "cell_type": "code",
      "source": [
        "print(\"Test set size:\", x_test.shape, y_test.shape)"
      ],
      "metadata": {
        "colab": {
          "base_uri": "https://localhost:8080/"
        },
        "id": "ni1GJrZzoS6b",
        "outputId": "cfda2480-49c9-4974-b614-ec2db144c19b"
      },
      "execution_count": 7,
      "outputs": [
        {
          "output_type": "stream",
          "name": "stdout",
          "text": [
            "Test set size: (10000, 28, 28) (10000,)\n"
          ]
        }
      ]
    },
    {
      "cell_type": "code",
      "source": [
        "num_labels = len(np.unique(y_train))"
      ],
      "metadata": {
        "id": "oGs_pwk0ofQD"
      },
      "execution_count": 8,
      "outputs": []
    },
    {
      "cell_type": "code",
      "source": [
        "def visualize_img(data):\n",
        "  plt.figure(figsize = (10, 10))\n",
        "  for n in range(10):\n",
        "    ax = plt.subplot(5, 5, n+1)\n",
        "    plt.imshow(data[n], cmap = 'gray')\n",
        "    plt.axis('off')"
      ],
      "metadata": {
        "id": "oUFWdR8lpY02"
      },
      "execution_count": 13,
      "outputs": []
    },
    {
      "cell_type": "code",
      "source": [
        "visualize_img(x_train)"
      ],
      "metadata": {
        "colab": {
          "base_uri": "https://localhost:8080/",
          "height": 278
        },
        "id": "5zqoGnsUpxAr",
        "outputId": "5ae94afd-d63a-42b9-ae8e-dd7f7dbac0fd"
      },
      "execution_count": 15,
      "outputs": [
        {
          "output_type": "display_data",
          "data": {
            "text/plain": [
              "<Figure size 1000x1000 with 10 Axes>"
            ],
            "image/png": "[encoded data removed]"
          },
          "metadata": {}
        }
      ]
    },
    {
      "cell_type": "code",
      "source": [
        "plt.figure(figsize = (10,10))\n",
        "plt.imshow(x_train[2], cmap = 'gray')"
      ],
      "metadata": {
        "colab": {
          "base_uri": "https://localhost:8080/",
          "height": 696
        },
        "id": "AvYxcPZzpzMj",
        "outputId": "7ea595bb-df34-4227-a568-1b4b47f5e320"
      },
      "execution_count": 22,
      "outputs": [
        {
          "output_type": "execute_result",
          "data": {
            "text/plain": [
              "<matplotlib.image.AxesImage at 0x7f3933b8eb90>"
            ]
          },
          "metadata": {},
          "execution_count": 22
        },
        {
          "output_type": "display_data",
          "data": {
            "text/plain": [
              "<Figure size 1000x1000 with 1 Axes>"
            ],
            "image/png": "[encoded data removed]"
          },
          "metadata": {}
        }
      ]
    },
    {
      "cell_type": "code",
      "source": [
        "x_train[2].shape"
      ],
      "metadata": {
        "colab": {
          "base_uri": "https://localhost:8080/"
        },
        "id": "OLOIWjc5qss5",
        "outputId": "b1e2a7bf-84c4-47e9-a57d-a958144ec97d"
      },
      "execution_count": 19,
      "outputs": [
        {
          "output_type": "execute_result",
          "data": {
            "text/plain": [
              "(28, 28)"
            ]
          },
          "metadata": {},
          "execution_count": 19
        }
      ]
    },
    {
      "cell_type": "code",
      "source": [
        "x_train[2]"
      ],
      "metadata": {
        "id": "i-uk8uISsQW7"
      },
      "execution_count": null,
      "outputs": []
    },
    {
      "cell_type": "code",
      "source": [
        "x_train[2][10,10]"
      ],
      "metadata": {
        "colab": {
          "base_uri": "https://localhost:8080/"
        },
        "id": "_TlldvLusvAS",
        "outputId": "82cac124-c96c-492a-ff4b-73450e0763ab"
      },
      "execution_count": 21,
      "outputs": [
        {
          "output_type": "execute_result",
          "data": {
            "text/plain": [
              "0"
            ]
          },
          "metadata": {},
          "execution_count": 21
        }
      ]
    },
    {
      "cell_type": "code",
      "source": [
        "x_train[2][14,10]"
      ],
      "metadata": {
        "colab": {
          "base_uri": "https://localhost:8080/"
        },
        "id": "GJdMbUTUs7iL",
        "outputId": "962b3ec1-7742-4df5-ef79-d681ce299818"
      },
      "execution_count": 23,
      "outputs": [
        {
          "output_type": "execute_result",
          "data": {
            "text/plain": [
              "49"
            ]
          },
          "metadata": {},
          "execution_count": 23
        }
      ]
    },
    {
      "cell_type": "code",
      "source": [
        "x_train[2].sum()"
      ],
      "metadata": {
        "colab": {
          "base_uri": "https://localhost:8080/"
        },
        "id": "PX7t915GtJX_",
        "outputId": "c188fdb4-3494-4027-9605-a8d004669117"
      },
      "execution_count": 25,
      "outputs": [
        {
          "output_type": "execute_result",
          "data": {
            "text/plain": [
              "19443"
            ]
          },
          "metadata": {},
          "execution_count": 25
        }
      ]
    },
    {
      "cell_type": "code",
      "source": [
        "x_train[2][14:20, 10:20].mean()"
      ],
      "metadata": {
        "colab": {
          "base_uri": "https://localhost:8080/"
        },
        "id": "RWCbWYRWtRDP",
        "outputId": "99c7de38-f5bc-4be7-be89-875fd6f7e3b5"
      },
      "execution_count": 27,
      "outputs": [
        {
          "output_type": "execute_result",
          "data": {
            "text/plain": [
              "96.51666666666667"
            ]
          },
          "metadata": {},
          "execution_count": 27
        }
      ]
    },
    {
      "cell_type": "code",
      "source": [
        "def pixel_validation(img):\n",
        "  fig = plt.figure(figsize=(12,12))\n",
        "  ax = fig.add_subplot(111)\n",
        "  ax.imshow(img, cmap='gray')\n",
        "  width, height = img.shape\n",
        "\n",
        "  threshold = img.max() / 2.5\n",
        "\n",
        "  for x in range(width):\n",
        "    for y in range(height):\n",
        "\n",
        "      ax.annotate(str(round(img[x][y], 2)), xy=(y,x),\n",
        "                  color = 'white' if img[x][y]<threshold else 'black')"
      ],
      "metadata": {
        "id": "873A6dq1tbm1"
      },
      "execution_count": 36,
      "outputs": []
    },
    {
      "cell_type": "code",
      "source": [
        "pixel_validation(x_train[2])"
      ],
      "metadata": {
        "colab": {
          "base_uri": "https://localhost:8080/",
          "height": 680
        },
        "id": "X0eFAh1Bukvf",
        "outputId": "57174153-3e6a-4ab5-a37f-e986afd38f67"
      },
      "execution_count": 37,
      "outputs": [
        {
          "output_type": "display_data",
          "data": {
            "text/plain": [
              "<Figure size 1200x1200 with 1 Axes>"
            ],
            "image/png": "[encoded data removed]"
          },
          "metadata": {}
        }
      ]
    },
    {
      "cell_type": "markdown",
      "source": [
        "\n",
        "\n",
        "# 3. Data Preparation\n",
        "\n"
      ],
      "metadata": {
        "id": "FxkYWNskv_92"
      }
    },
    {
      "cell_type": "markdown",
      "source": [
        "\n",
        "\n",
        "##Encoding\n",
        "\n"
      ],
      "metadata": {
        "id": "jAAvuk0TwKFI"
      }
    },
    {
      "cell_type": "code",
      "source": [
        "y_train[0:5]"
      ],
      "metadata": {
        "colab": {
          "base_uri": "https://localhost:8080/"
        },
        "id": "tuTOsN2uunnf",
        "outputId": "42db1b63-8c70-4072-bae4-c9b51023f3f6"
      },
      "execution_count": 38,
      "outputs": [
        {
          "output_type": "execute_result",
          "data": {
            "text/plain": [
              "array([5, 0, 4, 1, 9], dtype=uint8)"
            ]
          },
          "metadata": {},
          "execution_count": 38
        }
      ]
    },
    {
      "cell_type": "code",
      "source": [
        "y_train = to_categorical(y_train)\n",
        "y_test = to_categorical(y_test)"
      ],
      "metadata": {
        "id": "TK9Q-ZZcwfQM"
      },
      "execution_count": 39,
      "outputs": []
    },
    {
      "cell_type": "code",
      "source": [
        "y_train[0:5]"
      ],
      "metadata": {
        "colab": {
          "base_uri": "https://localhost:8080/"
        },
        "id": "bH8cvOJPwr0Z",
        "outputId": "e134d7d0-634d-4d28-a6d5-6c4e1ef8124c"
      },
      "execution_count": 40,
      "outputs": [
        {
          "output_type": "execute_result",
          "data": {
            "text/plain": [
              "array([[0., 0., 0., 0., 0., 1., 0., 0., 0., 0.],\n",
              "       [1., 0., 0., 0., 0., 0., 0., 0., 0., 0.],\n",
              "       [0., 0., 0., 0., 1., 0., 0., 0., 0., 0.],\n",
              "       [0., 1., 0., 0., 0., 0., 0., 0., 0., 0.],\n",
              "       [0., 0., 0., 0., 0., 0., 0., 0., 0., 1.]], dtype=float32)"
            ]
          },
          "metadata": {},
          "execution_count": 40
        }
      ]
    },
    {
      "cell_type": "markdown",
      "source": [
        "##Reshaping"
      ],
      "metadata": {
        "id": "BSMQVhvbww-W"
      }
    },
    {
      "cell_type": "code",
      "source": [
        "image_size = x_train.shape[1]"
      ],
      "metadata": {
        "id": "ZuDndQQFwtie"
      },
      "execution_count": 43,
      "outputs": []
    },
    {
      "cell_type": "code",
      "source": [
        "image_size"
      ],
      "metadata": {
        "colab": {
          "base_uri": "https://localhost:8080/"
        },
        "id": "e2cbkTo-xkKd",
        "outputId": "084a4732-b158-42fb-82c5-132d79be0b22"
      },
      "execution_count": 44,
      "outputs": [
        {
          "output_type": "execute_result",
          "data": {
            "text/plain": [
              "28"
            ]
          },
          "metadata": {},
          "execution_count": 44
        }
      ]
    },
    {
      "cell_type": "code",
      "source": [
        "print(f\"x_train size: {x_train.shape}\")\n",
        "print(f\"x_test size: {x_test.shape}\")"
      ],
      "metadata": {
        "colab": {
          "base_uri": "https://localhost:8080/"
        },
        "id": "9XQt3nt4xpg9",
        "outputId": "e92eaf5f-c511-4204-f2f6-045074d5119a"
      },
      "execution_count": 46,
      "outputs": [
        {
          "output_type": "stream",
          "name": "stdout",
          "text": [
            "x_train size: (60000, 28, 28)\n",
            "x_test size: (10000, 28, 28)\n"
          ]
        }
      ]
    },
    {
      "cell_type": "code",
      "source": [
        "x_train = x_train.reshape(x_train.shape[0], 28, 28, 1)\n",
        "x_test = x_test.reshape(x_test.shape[0], 28, 28, 1)\n",
        "\n",
        "print(f\"x_train size: {x_train.shape}\")\n",
        "print(f\"x_test size: {x_test.shape}\")"
      ],
      "metadata": {
        "colab": {
          "base_uri": "https://localhost:8080/"
        },
        "id": "37r-K961x1Gx",
        "outputId": "7c5fa203-e47b-46e6-8f11-1190899016ac"
      },
      "execution_count": 47,
      "outputs": [
        {
          "output_type": "stream",
          "name": "stdout",
          "text": [
            "x_train size: (60000, 28, 28, 1)\n",
            "x_test size: (10000, 28, 28, 1)\n"
          ]
        }
      ]
    },
    {
      "cell_type": "markdown",
      "source": [
        "##Standardization"
      ],
      "metadata": {
        "id": "DuSP6E76xapW"
      }
    },
    {
      "cell_type": "code",
      "source": [
        "x_train = x_train.astype('float32') / 255\n",
        "\n",
        "x_test = x_test.astype('float32') / 255"
      ],
      "metadata": {
        "id": "1knIVPQ8xcNT"
      },
      "execution_count": 48,
      "outputs": []
    },
    {
      "cell_type": "markdown",
      "source": [
        "# 4. Modeling"
      ],
      "metadata": {
        "id": "kIZnBVOEy4DG"
      }
    },
    {
      "cell_type": "markdown",
      "source": [
        "## Define neural network architecture"
      ],
      "metadata": {
        "id": "WYA9jJchzAJj"
      }
    },
    {
      "cell_type": "code",
      "source": [
        "model = tf.keras.Sequential([\n",
        "    Flatten(input_shape = (28, 28, 1)),\n",
        "    Dense(units=128, activation='relu', name='layer1'),\n",
        "    Dense(units = num_labels, activation = 'softmax', name = 'output_layer')])\n",
        "\n",
        "model.compile(loss = 'categorical_crossentropy',\n",
        "              optimizer = 'adam',\n",
        "              metrics = [tf.keras.metrics.Precision(),\n",
        "                         tf.keras.metrics.Recall(),\n",
        "                         \"accuracy\"])"
      ],
      "metadata": {
        "id": "1A0ODuBBy_3F"
      },
      "execution_count": 51,
      "outputs": []
    },
    {
      "cell_type": "code",
      "source": [
        "model.summary()"
      ],
      "metadata": {
        "colab": {
          "base_uri": "https://localhost:8080/"
        },
        "id": "fyPW1dKIyyPw",
        "outputId": "85cb9da7-af55-4e28-d319-3bd005de64ea"
      },
      "execution_count": 52,
      "outputs": [
        {
          "output_type": "stream",
          "name": "stdout",
          "text": [
            "Model: \"sequential_2\"\n",
            "_________________________________________________________________\n",
            " Layer (type)                Output Shape              Param #   \n",
            "=================================================================\n",
            " flatten_2 (Flatten)         (None, 784)               0         \n",
            "                                                                 \n",
            " layer1 (Dense)              (None, 128)               100480    \n",
            "                                                                 \n",
            " output_layer (Dense)        (None, 10)                1290      \n",
            "                                                                 \n",
            "=================================================================\n",
            "Total params: 101,770\n",
            "Trainable params: 101,770\n",
            "Non-trainable params: 0\n",
            "_________________________________________________________________\n"
          ]
        }
      ]
    },
    {
      "cell_type": "code",
      "source": [
        "model.fit(x_train, y_train, epochs=10, batch_size=128, validation_data=(x_test, y_test))"
      ],
      "metadata": {
        "colab": {
          "base_uri": "https://localhost:8080/"
        },
        "id": "s0pOXsOm12RT",
        "outputId": "f7cb1f4a-71f7-4a41-f08f-b6688ea0a170"
      },
      "execution_count": 55,
      "outputs": [
        {
          "output_type": "stream",
          "name": "stdout",
          "text": [
            "Epoch 1/10\n",
            "469/469 [==============================] - 3s 6ms/step - loss: 0.0602 - precision_1: 0.9862 - recall_1: 0.9800 - accuracy: 0.9831 - val_loss: 0.0851 - val_precision_1: 0.9777 - val_recall_1: 0.9700 - val_accuracy: 0.9730\n",
            "Epoch 2/10\n",
            "469/469 [==============================] - 3s 7ms/step - loss: 0.0501 - precision_1: 0.9883 - recall_1: 0.9832 - accuracy: 0.9858 - val_loss: 0.0804 - val_precision_1: 0.9786 - val_recall_1: 0.9725 - val_accuracy: 0.9748\n",
            "Epoch 3/10\n",
            "469/469 [==============================] - 3s 7ms/step - loss: 0.0429 - precision_1: 0.9897 - recall_1: 0.9855 - accuracy: 0.9877 - val_loss: 0.0747 - val_precision_1: 0.9788 - val_recall_1: 0.9733 - val_accuracy: 0.9764\n",
            "Epoch 4/10\n",
            "469/469 [==============================] - 3s 6ms/step - loss: 0.0365 - precision_1: 0.9915 - recall_1: 0.9881 - accuracy: 0.9898 - val_loss: 0.0743 - val_precision_1: 0.9802 - val_recall_1: 0.9759 - val_accuracy: 0.9775\n",
            "Epoch 5/10\n",
            "469/469 [==============================] - 3s 6ms/step - loss: 0.0305 - precision_1: 0.9927 - recall_1: 0.9902 - accuracy: 0.9916 - val_loss: 0.0752 - val_precision_1: 0.9803 - val_recall_1: 0.9751 - val_accuracy: 0.9770\n",
            "Epoch 6/10\n",
            "469/469 [==============================] - 4s 8ms/step - loss: 0.0264 - precision_1: 0.9943 - recall_1: 0.9918 - accuracy: 0.9932 - val_loss: 0.0738 - val_precision_1: 0.9789 - val_recall_1: 0.9751 - val_accuracy: 0.9770\n",
            "Epoch 7/10\n",
            "469/469 [==============================] - 3s 6ms/step - loss: 0.0224 - precision_1: 0.9953 - recall_1: 0.9937 - accuracy: 0.9946 - val_loss: 0.0750 - val_precision_1: 0.9788 - val_recall_1: 0.9749 - val_accuracy: 0.9765\n",
            "Epoch 8/10\n",
            "469/469 [==============================] - 3s 6ms/step - loss: 0.0192 - precision_1: 0.9959 - recall_1: 0.9944 - accuracy: 0.9952 - val_loss: 0.0730 - val_precision_1: 0.9796 - val_recall_1: 0.9767 - val_accuracy: 0.9774\n",
            "Epoch 9/10\n",
            "469/469 [==============================] - 3s 6ms/step - loss: 0.0160 - precision_1: 0.9967 - recall_1: 0.9954 - accuracy: 0.9962 - val_loss: 0.0731 - val_precision_1: 0.9801 - val_recall_1: 0.9775 - val_accuracy: 0.9781\n",
            "Epoch 10/10\n",
            "469/469 [==============================] - 3s 7ms/step - loss: 0.0147 - precision_1: 0.9971 - recall_1: 0.9962 - accuracy: 0.9965 - val_loss: 0.0883 - val_precision_1: 0.9760 - val_recall_1: 0.9733 - val_accuracy: 0.9746\n"
          ]
        },
        {
          "output_type": "execute_result",
          "data": {
            "text/plain": [
              "<keras.callbacks.History at 0x7f39336c2b30>"
            ]
          },
          "metadata": {},
          "execution_count": 55
        }
      ]
    },
    {
      "cell_type": "markdown",
      "source": [
        "# 5. Evaluation"
      ],
      "metadata": {
        "id": "SQEtpuna3cLA"
      }
    },
    {
      "cell_type": "code",
      "source": [
        "history = model.fit(x_train, y_train, epochs=10, batch_size=128, validation_data=(x_test, y_test))"
      ],
      "metadata": {
        "colab": {
          "base_uri": "https://localhost:8080/"
        },
        "id": "9fCL3tWo2uhh",
        "outputId": "f98127ab-a45e-4162-b8ed-7200a1631927"
      },
      "execution_count": 56,
      "outputs": [
        {
          "output_type": "stream",
          "name": "stdout",
          "text": [
            "Epoch 1/10\n",
            "469/469 [==============================] - 5s 10ms/step - loss: 0.0117 - precision_1: 0.9977 - recall_1: 0.9970 - accuracy: 0.9975 - val_loss: 0.0768 - val_precision_1: 0.9802 - val_recall_1: 0.9772 - val_accuracy: 0.9783\n",
            "Epoch 2/10\n",
            "469/469 [==============================] - 4s 9ms/step - loss: 0.0100 - precision_1: 0.9983 - recall_1: 0.9977 - accuracy: 0.9981 - val_loss: 0.0778 - val_precision_1: 0.9796 - val_recall_1: 0.9773 - val_accuracy: 0.9783\n",
            "Epoch 3/10\n",
            "469/469 [==============================] - 3s 6ms/step - loss: 0.0090 - precision_1: 0.9984 - recall_1: 0.9980 - accuracy: 0.9981 - val_loss: 0.0827 - val_precision_1: 0.9798 - val_recall_1: 0.9766 - val_accuracy: 0.9775\n",
            "Epoch 4/10\n",
            "469/469 [==============================] - 3s 6ms/step - loss: 0.0072 - precision_1: 0.9989 - recall_1: 0.9986 - accuracy: 0.9987 - val_loss: 0.0796 - val_precision_1: 0.9799 - val_recall_1: 0.9777 - val_accuracy: 0.9789\n",
            "Epoch 5/10\n",
            "469/469 [==============================] - 3s 7ms/step - loss: 0.0059 - precision_1: 0.9990 - recall_1: 0.9988 - accuracy: 0.9990 - val_loss: 0.0808 - val_precision_1: 0.9803 - val_recall_1: 0.9777 - val_accuracy: 0.9788\n",
            "Epoch 6/10\n",
            "469/469 [==============================] - 4s 9ms/step - loss: 0.0064 - precision_1: 0.9989 - recall_1: 0.9986 - accuracy: 0.9988 - val_loss: 0.0985 - val_precision_1: 0.9767 - val_recall_1: 0.9750 - val_accuracy: 0.9756\n",
            "Epoch 7/10\n",
            "469/469 [==============================] - 3s 7ms/step - loss: 0.0056 - precision_1: 0.9991 - recall_1: 0.9990 - accuracy: 0.9991 - val_loss: 0.0893 - val_precision_1: 0.9777 - val_recall_1: 0.9754 - val_accuracy: 0.9766\n",
            "Epoch 8/10\n",
            "469/469 [==============================] - 4s 9ms/step - loss: 0.0037 - precision_1: 0.9997 - recall_1: 0.9996 - accuracy: 0.9996 - val_loss: 0.0886 - val_precision_1: 0.9793 - val_recall_1: 0.9771 - val_accuracy: 0.9775\n",
            "Epoch 9/10\n",
            "469/469 [==============================] - 4s 8ms/step - loss: 0.0050 - precision_1: 0.9991 - recall_1: 0.9989 - accuracy: 0.9991 - val_loss: 0.0933 - val_precision_1: 0.9785 - val_recall_1: 0.9766 - val_accuracy: 0.9772\n",
            "Epoch 10/10\n",
            "469/469 [==============================] - 3s 7ms/step - loss: 0.0045 - precision_1: 0.9992 - recall_1: 0.9991 - accuracy: 0.9991 - val_loss: 0.0987 - val_precision_1: 0.9763 - val_recall_1: 0.9746 - val_accuracy: 0.9751\n"
          ]
        }
      ]
    },
    {
      "cell_type": "code",
      "source": [
        "#Accuracy and Loss Graphics\n",
        "\n",
        "#Graphic 1 Accuracy\n",
        "\n",
        "plt.figure(figsize=(20,5))\n",
        "plt.subplot(1,2,1)\n",
        "plt.plot(history.history['accuracy'], color='b', label='Training Accuracy')\n",
        "plt.plot(history.history['val_accuracy'], color='r', label='Validation Accuracy')\n",
        "plt.legend(loc='lower right')\n",
        "plt.xlabel('Epoch', fontsize=16)\n",
        "plt.ylabel('Accuracy', fontsize=16)\n",
        "plt.ylim([min(plt.ylim()),1])\n",
        "plt.title('Train and Test Accuracy Chart', fontsize=16)\n",
        "\n",
        "#Graphic 2 Loss\n",
        "\n",
        "plt.subplot(1,2,2)\n",
        "plt.plot(history.history['loss'], color='b', label='Training Loss')\n",
        "plt.plot(history.history['val_loss'], color='r', label='Validation Loss')\n",
        "plt.legend(loc='upper right')\n",
        "plt.xlabel('Epoch', fontsize=16)\n",
        "plt.ylabel('Loss', fontsize=16)\n",
        "plt.ylim([0, max(plt.ylim())])\n",
        "plt.title('Train and Test Loss Chart', fontsize = 16)\n",
        "plt.show()"
      ],
      "metadata": {
        "colab": {
          "base_uri": "https://localhost:8080/",
          "height": 210
        },
        "id": "GQW6dXbB3nUL",
        "outputId": "7a8cfdd4-fa9f-4276-f808-0de044a6e8cc"
      },
      "execution_count": 57,
      "outputs": [
        {
          "output_type": "display_data",
          "data": {
            "text/plain": [
              "<Figure size 2000x500 with 2 Axes>"
            ],
            "image/png": "[encoded data removed]"
          },
          "metadata": {}
        }
      ]
    },
    {
      "cell_type": "code",
      "source": [
        "loss, precision, recall, acc = model.evaluate(x_test, y_test, verbose=False)\n",
        "print(\"\\nTest Accuracy: %.lf%%\" % (100.0 * acc))\n",
        "print(\"\\nTest Loss: %.lf%%\" % (100.0 * loss))\n",
        "print(\"\\nTest Precision: %.lf%%\" % (100.0 * precision))\n",
        "print(\"\\nTest Recall: %.lf%%\" % (100.0 * recall))\n"
      ],
      "metadata": {
        "colab": {
          "base_uri": "https://localhost:8080/"
        },
        "id": "hQvCET_Y5xIt",
        "outputId": "bf585fb5-27fc-49c4-ad87-7f819c38f05c"
      },
      "execution_count": 58,
      "outputs": [
        {
          "output_type": "stream",
          "name": "stdout",
          "text": [
            "\n",
            "Test Accuracy: 98%\n",
            "\n",
            "Test Loss: 10%\n",
            "\n",
            "Test Precision: 98%\n",
            "\n",
            "Test Recall: 97%\n"
          ]
        }
      ]
    },
    {
      "cell_type": "markdown",
      "source": [
        "# Saving the Model and Using it for Prediction"
      ],
      "metadata": {
        "id": "qBcjA43U9_lf"
      }
    },
    {
      "cell_type": "code",
      "source": [
        "model.save('mnist_model.hs')"
      ],
      "metadata": {
        "colab": {
          "base_uri": "https://localhost:8080/"
        },
        "id": "s6kpzYPf82tA",
        "outputId": "15272760-ffd6-4853-b8fd-f0e0b2e27b1d"
      },
      "execution_count": 59,
      "outputs": [
        {
          "output_type": "stream",
          "name": "stderr",
          "text": [
            "WARNING:absl:Found untraced functions such as _update_step_xla while saving (showing 1 of 1). These functions will not be directly callable after loading.\n"
          ]
        }
      ]
    },
    {
      "cell_type": "code",
      "source": [
        "import random\n",
        "random = random.randint(0, x_test.shape[0])"
      ],
      "metadata": {
        "id": "dLH4XD5D-Wfh"
      },
      "execution_count": 61,
      "outputs": []
    },
    {
      "cell_type": "code",
      "source": [
        "random"
      ],
      "metadata": {
        "colab": {
          "base_uri": "https://localhost:8080/"
        },
        "id": "kiKLpViZ-dY_",
        "outputId": "1c721a18-046d-4ba2-e540-ba8e0940a40b"
      },
      "execution_count": 62,
      "outputs": [
        {
          "output_type": "execute_result",
          "data": {
            "text/plain": [
              "9715"
            ]
          },
          "metadata": {},
          "execution_count": 62
        }
      ]
    },
    {
      "cell_type": "code",
      "source": [
        "test_image = x_test[random]"
      ],
      "metadata": {
        "id": "TnQtno1r-hUA"
      },
      "execution_count": 63,
      "outputs": []
    },
    {
      "cell_type": "code",
      "source": [
        "y_test[random]"
      ],
      "metadata": {
        "colab": {
          "base_uri": "https://localhost:8080/"
        },
        "id": "dNjeWVAX-l1z",
        "outputId": "adb5f9bc-a56f-4edd-a205-307047332c2b"
      },
      "execution_count": 64,
      "outputs": [
        {
          "output_type": "execute_result",
          "data": {
            "text/plain": [
              "array([0., 1., 0., 0., 0., 0., 0., 0., 0., 0.], dtype=float32)"
            ]
          },
          "metadata": {},
          "execution_count": 64
        }
      ]
    },
    {
      "cell_type": "code",
      "source": [
        "plt.imshow(test_image.reshape(28,28), cmap = 'gray')"
      ],
      "metadata": {
        "colab": {
          "base_uri": "https://localhost:8080/",
          "height": 447
        },
        "id": "-FThvO_3-oFj",
        "outputId": "a348eeb7-4381-48ea-d157-6b690417ce2c"
      },
      "execution_count": 65,
      "outputs": [
        {
          "output_type": "execute_result",
          "data": {
            "text/plain": [
              "<matplotlib.image.AxesImage at 0x7f3931c94190>"
            ]
          },
          "metadata": {},
          "execution_count": 65
        },
        {
          "output_type": "display_data",
          "data": {
            "text/plain": [
              "<Figure size 640x480 with 1 Axes>"
            ],
            "image/png": "[encoded data removed]"
          },
          "metadata": {}
        }
      ]
    },
    {
      "cell_type": "code",
      "source": [
        "test_data = x_test[random].reshape(1, 28, 28, 1)"
      ],
      "metadata": {
        "id": "TWL_6qVe-xJX"
      },
      "execution_count": 66,
      "outputs": []
    },
    {
      "cell_type": "code",
      "source": [
        "probability = model.predict(test_data)"
      ],
      "metadata": {
        "colab": {
          "base_uri": "https://localhost:8080/"
        },
        "id": "XlWJPPog-3ig",
        "outputId": "b6557e44-aabc-44f9-ce14-3f5202ced377"
      },
      "execution_count": 67,
      "outputs": [
        {
          "output_type": "stream",
          "name": "stdout",
          "text": [
            "1/1 [==============================] - 0s 143ms/step\n"
          ]
        }
      ]
    },
    {
      "cell_type": "code",
      "source": [
        "probability"
      ],
      "metadata": {
        "colab": {
          "base_uri": "https://localhost:8080/"
        },
        "id": "x-3LaVqj-8Bj",
        "outputId": "2c81e156-f80f-4c62-e45e-2a3f03f6212f"
      },
      "execution_count": 68,
      "outputs": [
        {
          "output_type": "execute_result",
          "data": {
            "text/plain": [
              "array([[2.0288760e-11, 9.9999845e-01, 1.0044776e-07, 4.0752071e-10,\n",
              "        3.4957185e-07, 1.6244104e-13, 3.2347207e-12, 1.1025124e-06,\n",
              "        2.0347617e-08, 9.9681602e-13]], dtype=float32)"
            ]
          },
          "metadata": {},
          "execution_count": 68
        }
      ]
    },
    {
      "cell_type": "code",
      "source": [
        "predict_classes = np.argmax(probability)"
      ],
      "metadata": {
        "id": "FGZS28UP-_DT"
      },
      "execution_count": 70,
      "outputs": []
    },
    {
      "cell_type": "code",
      "source": [
        "predict_classes"
      ],
      "metadata": {
        "colab": {
          "base_uri": "https://localhost:8080/"
        },
        "id": "TTbW7k68_HRP",
        "outputId": "ce2e694a-0e7c-4756-a23a-298b9914233e"
      },
      "execution_count": 71,
      "outputs": [
        {
          "output_type": "execute_result",
          "data": {
            "text/plain": [
              "1"
            ]
          },
          "metadata": {},
          "execution_count": 71
        }
      ]
    },
    {
      "cell_type": "code",
      "source": [
        "print(f\"Estimated Class: {predict_classes} \\n\")\n",
        "print(f\"Probability Value of the Estimated Class: {(np.max(probability, axis = -1))[0]} \\n\")\n",
        "print(f\"Probability Value of the Other Classes: \\n{probability}\")"
      ],
      "metadata": {
        "colab": {
          "base_uri": "https://localhost:8080/"
        },
        "id": "NGhKHVHb_Nyc",
        "outputId": "e22b5fdc-a91e-403a-ef21-348cf7c45e1f"
      },
      "execution_count": 73,
      "outputs": [
        {
          "output_type": "stream",
          "name": "stdout",
          "text": [
            "Estimated Class: 1 \n",
            "\n",
            "Probability Value of the Estimated Class: 0.9999984502792358 \n",
            "\n",
            "Probability Value of the Other Classes: \n",
            "[[2.0288760e-11 9.9999845e-01 1.0044776e-07 4.0752071e-10 3.4957185e-07\n",
            "  1.6244104e-13 3.2347207e-12 1.1025124e-06 2.0347617e-08 9.9681602e-13]]\n"
          ]
        }
      ]
    },
    {
      "cell_type": "code",
      "source": [],
      "metadata": {
        "id": "JJV7VsZ_ABa3"
      },
      "execution_count": null,
      "outputs": []
    }
  ]
}